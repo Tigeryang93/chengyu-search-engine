{
 "cells": [
  {
   "cell_type": "code",
   "execution_count": null,
   "metadata": {
    "collapsed": true
   },
   "outputs": [],
   "source": [
    "# 建立搜索引擎，实现查询成语含义和查询与当前成语押韵的其他成语\n",
    "# 项目流程\n",
    "# 开启elasticsearch建索引-->成语生成拼音-->导入elasticsearch中-->查询\n",
    "# 使用搜索引擎直接查询，考虑成语押韵情况较少，非严格意义上的三押，四押。\n",
    "\n",
    "# elasticsearch构建索引语句：\n",
    "# {\n",
    "#   \"settings\": {\n",
    "#     \"index\": {\n",
    "#       \"creation_date\": \"1510042090481\",\n",
    "#       \"number_of_shards\": \"5\",\n",
    "#       \"number_of_replicas\": \"1\",\n",
    "#       \"uuid\": \"zz25wpPuSvqxFsLevXAPpA\",\n",
    "#       \"version\": {\n",
    "#         \"created\": \"2030599\"\n",
    "#       }\n",
    "#     }\n",
    "#   },\n",
    "#   \"mappings\": {\n",
    "#     \"chengyu\": {\n",
    "#       \"properties\": {\n",
    "#         \"name\": {\n",
    "#           \"type\": \"string\",\n",
    "#           \"index\": \"not_analyzed\"\n",
    "#         },\n",
    "#         \"pinyin\": {\n",
    "#           \"type\": \"string\",\n",
    "#           \"index\": \"not_analyzed\"\n",
    "#         },\n",
    "#         \"mean\": {\n",
    "#           \"type\": \"string\",\n",
    "#           \"index\": \"not_analyzed\"\n",
    "#         }\n",
    "#       }\n",
    "#     }\n",
    "#   }\n",
    "# }"
   ]
  },
  {
   "cell_type": "code",
   "execution_count": 1,
   "metadata": {
    "collapsed": false
   },
   "outputs": [
    {
     "name": "stderr",
     "output_type": "stream",
     "text": [
      "Building prefix dict from the default dictionary ...\n",
      "Dumping model to file cache C:\\Users\\Tiger\\AppData\\Local\\Temp\\jieba.cache\n",
      "Loading model cost 2.082 seconds.\n",
      "Prefix dict has been built succesfully.\n"
     ]
    }
   ],
   "source": [
    "#成语转拼音\n",
    "#coding:utf-8\n",
    "from pypinyin import pinyin,lazy_pinyin\n",
    "\n",
    "file_read = open('1.txt','r',encoding='gb18030')\n",
    "file_write = open('chengyu_with_pinyin.txt','w',encoding='gb18030')\n",
    "for line in file_read.readlines():\n",
    "    line = line.strip()\n",
    "    line = line.split('\\t')\n",
    "    line_pinyin = lazy_pinyin(line[0])\n",
    "    line_pinyin = ' '.join(line_pinyin)\n",
    "    file_write.write(line[0]+'\\t'+line_pinyin+'\\t'+line[1]+'\\n')\n",
    "file_write.close()\n",
    "file_read.close()"
   ]
  },
  {
   "cell_type": "code",
   "execution_count": 56,
   "metadata": {
    "collapsed": false
   },
   "outputs": [],
   "source": [
    "##成语导入到es\n",
    "from datetime import datetime\n",
    "from elasticsearch import Elasticsearch\n",
    "from elasticsearch import helpers\n",
    "\n",
    "es = Elasticsearch(['localhost:9200'])\n",
    "\n",
    "#导入数据\n",
    "file = open('chengyu_with_pinyin.txt', 'r', encoding='gb18030')\n",
    "\n",
    "for row in file.readlines():\n",
    "    row = row.strip()\n",
    "    str_context = str(row)\n",
    "    context = str_context.split('\\t')\n",
    "    \n",
    "    action = {}\n",
    "    action['name'] = context[0]\n",
    "    action['pinyin'] = context[1]\n",
    "    action['mean'] = context[2]\n",
    "\n",
    "    es.index(index='chengyu', doc_type='chengyu', body=action)\n",
    "file.close()"
   ]
  },
  {
   "cell_type": "code",
   "execution_count": 21,
   "metadata": {
    "collapsed": false
   },
   "outputs": [
    {
     "name": "stdout",
     "output_type": "stream",
     "text": [
      "尔虞我诈\n",
      "search...\n",
      "4押：\n",
      "尔虞我诈 : 见“尔诈我虞”。\n",
      "予夺生杀 : 《周礼·天官、大宰》的“八柄”中有予、夺、生、诛（责备）等权力。后因以“予夺生杀”泛指帝王掌握的赏罚生死大权。\n",
      "3押：\n",
      "2押：\n",
      "桀贪骜诈 : 凶暴贪婪而又傲慢狡诈。\n",
      "一毫不差 : 完全相同，没有一点差异。\n",
      "装疯作傻 : 见“装疯卖傻”。\n",
      "装痴作傻 : 见“装痴卖傻”。\n",
      "簸土扬沙 : 指虚张声势。\n",
      "高楼大厦 : 高大豪华的房屋建筑。\n",
      "高堂大厦 : 见“高楼大厦”。\n",
      "一笔抹煞 : 一笔全部抹掉。常喻轻率地全部否定。\n",
      "拳中掿沙 : 以手握沙，捏合不拢。比喻不团结。\n",
      "一笔抹杀 : 见“一笔抹煞”。\n",
      "阴错阳差 : 古代历数术语。明王逵《蠡海集·历数》：“阴错阳差，有十二月，盖六十甲子分为四段，自甲子、己卯、甲午、己酉，各得十五辰。甲子之前三辰，值辛酉、壬戌、癸亥为阴错；己卯之前三辰，值丙子、丁丑、戊寅为阳差；甲午之前三辰，值辛卯、壬辰、癸巳为阴错；己酉之前三辰，值丙午、丁未、戊申为阳差。盖四段中，每段除十二辰，各馀三辰，三四亦得十二辰，是为阴错阳差也。甲子、甲午为阳辰，故有阴错；己卯、己酉为阴辰，故有阳差也。”后用以比喻因各种偶然因素而造成了差错。\n",
      "1押：\n",
      "家至户察 : 到每家每户去察看。\n",
      "马足龙沙 : 指驰骋边疆，扬威域外。龙沙，塞北沙漠地方。\n",
      "入海算沙 : ①到海底数沙子。喻白费功夫。②又喻用力精勤。\n",
      "稳打稳扎 : 同“稳扎稳打”。\n",
      "一片散沙 : 见“一盘散沙”。\n",
      "一时半霎 : 犹一时半刻。\n",
      "云泥之差 : 见“云泥之别”。\n",
      "折戟沉沙 : 断戟沉埋在沙里。形容失败惨重。\n",
      "装痴卖傻 : 故意装作痴呆的样子。\n",
      "装疯卖傻 : 假装疯癫痴呆的样子。\n",
      "不丰不杀 : 不奢不俭，多少合宜。\n",
      "垂死挣扎 : 形容最后的反抗。多含贬义。\n",
      "风云叱咤 : 同“叱咤风云”。\n",
      "捐残去杀 : 谓放弃残暴和屠杀的行为。\n",
      "狂轰滥炸 : 疯狂地轰炸。\n",
      "七步八叉 : 相传曹植七步成诗，温庭筠凡八叉手而赋成八韵，后因以“七步八叉”形容才思敏捷。\n",
      "finish.\n"
     ]
    }
   ],
   "source": [
    "# 查询成语及相同韵脚成语\n",
    "import re\n",
    "from pypinyin import pinyin,lazy_pinyin\n",
    "from datetime import datetime\n",
    "from elasticsearch import Elasticsearch\n",
    "from elasticsearch import helpers\n",
    "es = Elasticsearch(['localhost:9200'])\n",
    "\n",
    "shengmu = ['b','p','m','f','d','t','n','l','g','k','h','j','q','x','z','c','s','zh','ch','sh','r','y','w']\n",
    "\n",
    "def get_yunjiao(search):    \n",
    "    yunmu = []\n",
    "    for i in search:\n",
    "        for j in shengmu:\n",
    "            if i.startswith(j):\n",
    "                s_len = len(j)\n",
    "                yunmu.append(i[s_len:])\n",
    "                break\n",
    "    return yunmu\n",
    "index = 1\n",
    "while index <2:\n",
    "    index += 1\n",
    "    search_chengyu = input()\n",
    "    # 转换成拼音\n",
    "    search_pinyin = lazy_pinyin(search_chengyu)\n",
    "    #获取查询语句\n",
    "    search_sql = []\n",
    "    for i in range(4):\n",
    "        temp = '.*'+' .*'.join(get_yunjiao(search_pinyin)[i-4:])\n",
    "        #print(temp)\n",
    "        search_sql.append(temp)\n",
    "    #得到查询结果\n",
    "    results = []\n",
    "    for i in range(len(search_sql)):\n",
    "        result = es.search(index='chengyu', doc_type='chengyu', \n",
    "                           body={\"fields\": [\"name\",\"mean\",\"pinyin\"], \"size\":20, \"query\": {\"regexp\": {\"pinyin\": str(search_sql[i])}}})\n",
    "        results.append(result)\n",
    "    print('search...')\n",
    "    # all_chengyu = [search_chengyu]\n",
    "    all_chengyu = []\n",
    "    for i in range(len(results)):\n",
    "        print(str(4-i)+'押：')\n",
    "        for hit in results[i]['hits']['hits']:\n",
    "            if hit['fields']['name'][0] not in all_chengyu:\n",
    "                print(hit['fields']['name'][0],':',hit['fields']['mean'][0])\n",
    "                all_chengyu.append(hit['fields']['name'][0])\n",
    "    print('finish.')"
   ]
  },
  {
   "cell_type": "code",
   "execution_count": null,
   "metadata": {
    "collapsed": true
   },
   "outputs": [],
   "source": []
  },
  {
   "cell_type": "code",
   "execution_count": null,
   "metadata": {
    "collapsed": true
   },
   "outputs": [],
   "source": []
  },
  {
   "cell_type": "code",
   "execution_count": 62,
   "metadata": {
    "collapsed": false
   },
   "outputs": [
    {
     "name": "stdout",
     "output_type": "stream",
     "text": [
      "yes\n"
     ]
    }
   ],
   "source": [
    "str1 = 'ba zi mei jian'\n",
    "patten = '.*ian$'\n",
    "if re.match(patten, str1):\n",
    "    print('yes')"
   ]
  },
  {
   "cell_type": "code",
   "execution_count": 5,
   "metadata": {
    "collapsed": false
   },
   "outputs": [],
   "source": [
    "# #获取词典拼音\n",
    "# from pypinyin import pinyin,lazy_pinyin\n",
    "# import pypinyin\n",
    "\n",
    "# ciyu = open('现代汉语词典第六版电子书.txt','r',encoding='gb18030')\n",
    "# ciyu_with_py = []\n",
    "# for line in ciyu:\n",
    "#     line = line.strip()\n",
    "#     if '【' in line and '】'in line:\n",
    "#         #提取【..】中的词语\n",
    "#         st = line.index('【')\n",
    "#         en = line.index('】')\n",
    "#         word = line[st+1:en]\n",
    "# #         print(word)\n",
    "# #         print(word_py)\n",
    "#         word_py = lazy_pinyin(word)\n",
    "#         word_py = ' '.join(word_py)\n",
    "#         ciyu_with_py.append(word+' '+word_py)\n",
    "# ciyu.close()\n",
    "\n",
    "# len(ciyu_with_py)\n",
    "# #数据导入到es中\n",
    "# from datetime import datetime\n",
    "# from elasticsearch import Elasticsearch\n",
    "# from elasticsearch import helpers\n",
    "# es = Elasticsearch(['localhost:9200'])\n",
    "\n",
    "# #导入数据\n",
    "# for row in ciyu_with_py:\n",
    "#     row = row.strip()\n",
    "#     str_context = str(row)\n",
    "#     action = {}\n",
    "#     action['context'] = str_context\n",
    "#     es.index(index='ciyu2', doc_type='ciyu', body=action)"
   ]
  }
 ],
 "metadata": {
  "anaconda-cloud": {},
  "kernelspec": {
   "display_name": "Python [conda root]",
   "language": "python",
   "name": "conda-root-py"
  },
  "language_info": {
   "codemirror_mode": {
    "name": "ipython",
    "version": 3
   },
   "file_extension": ".py",
   "mimetype": "text/x-python",
   "name": "python",
   "nbconvert_exporter": "python",
   "pygments_lexer": "ipython3",
   "version": "3.5.5"
  }
 },
 "nbformat": 4,
 "nbformat_minor": 1
}
